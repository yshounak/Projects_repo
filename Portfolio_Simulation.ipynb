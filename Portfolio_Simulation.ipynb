{
 "cells": [
  {
   "cell_type": "code",
   "execution_count": 1,
   "id": "e0239bb6",
   "metadata": {},
   "outputs": [],
   "source": [
    "# Importing necessary libraries\n",
    "import pandas as pd\n",
    "from ast import literal_eval"
   ]
  },
  {
   "cell_type": "code",
   "execution_count": 2,
   "id": "76ea2774",
   "metadata": {},
   "outputs": [],
   "source": [
    "# Load data\n",
    "top_10_df = pd.read_csv('/Users/shounak/Documents/Cuvette/InterviewProj/IP2/nifty_50_top_10_selection_52 (1).csv')\n",
    "percent_change_df = pd.read_csv('/Users/shounak/Documents/Cuvette/InterviewProj/IP2/nifty_50_accurate_percent_change_per_candle_52 (1).csv')"
   ]
  },
  {
   "cell_type": "code",
   "execution_count": 3,
   "id": "bfba3a4f",
   "metadata": {},
   "outputs": [],
   "source": [
    "# Parse and merge\n",
    "top_10_df['datetime'] = pd.to_datetime(top_10_df['datetime'])\n",
    "top_10_df['top_10'] = top_10_df['top_10'].apply(literal_eval)\n",
    "percent_change_df['datetime'] = pd.to_datetime(percent_change_df['datetime'])\n",
    "merged_df = pd.merge(top_10_df, percent_change_df, on='datetime', how='inner')"
   ]
  },
  {
   "cell_type": "code",
   "execution_count": 4,
   "id": "5391aaad",
   "metadata": {},
   "outputs": [],
   "source": [
    "# Initialising parameters\n",
    "initial_investment = 1000\n",
    "num_stocks = 10\n",
    "initial_investment_per_stock = initial_investment / num_stocks\n",
    "\n",
    "# Portfolio initialization\n",
    "portfolio = {stock: initial_investment_per_stock for stock in merged_df.iloc[0]['top_10']}\n",
    "\n",
    "# Track results\n",
    "portfolio_values = []\n",
    "average_changes = []"
   ]
  },
  {
   "cell_type": "code",
   "execution_count": 5,
   "id": "d8770bb2",
   "metadata": {},
   "outputs": [],
   "source": [
    "# Loop through each week\n",
    "for _, row in merged_df.iterrows():\n",
    "    current_top_10 = row['top_10']\n",
    "    current_percent_changes = row.drop(['datetime', 'top_10'])\n",
    "\n",
    "    # Updating portfolio value\n",
    "    portfolio_value = 0\n",
    "    for stock in list(portfolio.keys()):\n",
    "        percent_change_column = f\"{stock}_per_candle_percent_change_oc\"\n",
    "        if percent_change_column in current_percent_changes:\n",
    "            percent_change = current_percent_changes[percent_change_column]\n",
    "            portfolio[stock] *= (1 + percent_change / 100)\n",
    "        portfolio_value += portfolio[stock]\n",
    "\n",
    "    current_portfolio_stocks = set(portfolio.keys())\n",
    "    new_portfolio_stocks = set(current_top_10)\n",
    "    stocks_to_replace = current_portfolio_stocks - new_portfolio_stocks\n",
    "    stocks_to_add = new_portfolio_stocks - current_portfolio_stocks\n",
    "\n",
    "    if stocks_to_replace:\n",
    "        avg_replace_value = sum(portfolio[stock] for stock in stocks_to_replace) / len(stocks_to_replace)\n",
    "        for stock in stocks_to_replace:\n",
    "            del portfolio[stock]\n",
    "        for stock in stocks_to_add:\n",
    "            portfolio[stock] = avg_replace_value\n",
    "\n",
    "    # Track metrics\n",
    "    average_changes.append(len(stocks_to_replace))\n",
    "    portfolio_values.append(portfolio_value)\n"
   ]
  },
  {
   "cell_type": "code",
   "execution_count": 6,
   "id": "0e9c7a2c",
   "metadata": {},
   "outputs": [
    {
     "name": "stdout",
     "output_type": "stream",
     "text": [
      "Total Portfolio Return: -0.02%\n",
      "Average Number of Changes per Week: 1.35\n"
     ]
    }
   ],
   "source": [
    "# Final calculations\n",
    "average_no_of_changes = sum(average_changes) / len(average_changes)\n",
    "total_portfolio_return = (portfolio_values[-1] - initial_investment) / initial_investment * 100\n",
    "\n",
    "# Results\n",
    "print(f\"Total Portfolio Return: {total_portfolio_return:.2f}%\")\n",
    "print(f\"Average Number of Changes per Week: {average_no_of_changes:.2f}\")"
   ]
  },
  {
   "cell_type": "code",
   "execution_count": null,
   "id": "58cc2e9e",
   "metadata": {},
   "outputs": [],
   "source": []
  }
 ],
 "metadata": {
  "kernelspec": {
   "display_name": "Python 3 (ipykernel)",
   "language": "python",
   "name": "python3"
  },
  "language_info": {
   "codemirror_mode": {
    "name": "ipython",
    "version": 3
   },
   "file_extension": ".py",
   "mimetype": "text/x-python",
   "name": "python",
   "nbconvert_exporter": "python",
   "pygments_lexer": "ipython3",
   "version": "3.11.5"
  }
 },
 "nbformat": 4,
 "nbformat_minor": 5
}
